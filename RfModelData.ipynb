{
 "cells": [
  {
   "cell_type": "markdown",
   "id": "33c09bcb-d173-46af-b290-47c5ffc9c20c",
   "metadata": {},
   "source": [
    "### Dummy Dataset"
   ]
  },
  {
   "cell_type": "code",
   "execution_count": null,
   "id": "2b1db886-938d-433f-9805-0ae0a99e69ab",
   "metadata": {
    "tags": []
   },
   "outputs": [],
   "source": [
    "from RfModelData import RfModelData\n",
    "from RfModel import RfModel\n",
    "import pandas as pd\n",
    "\n",
    "# Generate and save the dummy data to a CSV file\n",
    "data = RfModelData(num_samples=5, num_freq_points=31)\n",
    "data.generate_data(\"dummy_s21_magnitude_data.csv\")\n",
    "\n",
    "# Plot the S21 magnitude data vs. frequency for each temperature\n",
    "data.plot_data(\"dummy_s21_magnitude_data.csv\")"
   ]
  },
  {
   "cell_type": "markdown",
   "id": "ab4b196f-5b8f-439a-a8c6-0736cc5edd8c",
   "metadata": {},
   "source": [
    "### Linear Regression"
   ]
  },
  {
   "cell_type": "code",
   "execution_count": null,
   "id": "b2678951-31b1-4b3f-9ef1-15f4da850b48",
   "metadata": {
    "tags": []
   },
   "outputs": [],
   "source": [
    "# Load the dummy data\n",
    "data = pd.read_csv(\"dummy_s21_magnitude_data.csv\")\n",
    "\n",
    "# Create an instance of RfModel\n",
    "model = RfModel()\n",
    "\n",
    "# Fit the model to the data\n",
    "model.fit(data, data, regression_type=\"linear\")\n",
    "\n",
    "# Generate predictions and plot the results\n",
    "model.plot(data, data)"
   ]
  },
  {
   "cell_type": "markdown",
   "id": "c78f195d-ebd4-44cf-9b8b-b99733a8f42b",
   "metadata": {},
   "source": [
    "### Polynomial Regression"
   ]
  },
  {
   "cell_type": "code",
   "execution_count": null,
   "id": "e59f1799-5122-4ed3-9638-8ca408fbfabc",
   "metadata": {
    "tags": []
   },
   "outputs": [],
   "source": [
    "model.fit(data, data, regression_type=\"poly\", degree=3)\n",
    "\n",
    "# Save the model to a file\n",
    "model.save_model(\"rf_model.joblib\")\n",
    "\n",
    "# Load the model from the file\n",
    "loaded_model = RfModel.load_model(\"rf_model.joblib\")\n",
    "\n",
    "# Generate predictions and plot the results\n",
    "loaded_model.plot(data, data)"
   ]
  }
 ],
 "metadata": {
  "kernelspec": {
   "display_name": "Python 3 (ipykernel)",
   "language": "python",
   "name": "python3"
  },
  "language_info": {
   "codemirror_mode": {
    "name": "ipython",
    "version": 3
   },
   "file_extension": ".py",
   "mimetype": "text/x-python",
   "name": "python",
   "nbconvert_exporter": "python",
   "pygments_lexer": "ipython3",
   "version": "3.10.6"
  }
 },
 "nbformat": 4,
 "nbformat_minor": 5
}
